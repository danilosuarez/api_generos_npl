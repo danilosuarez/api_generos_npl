{
 "cells": [
  {
   "cell_type": "code",
   "execution_count": 5,
   "id": "ae512b83-49f4-43e5-be0b-dd4b8e00ca8e",
   "metadata": {},
   "outputs": [
    {
     "name": "stdout",
     "output_type": "stream",
     "text": [
      "Overwriting api_peliculas.py\n"
     ]
    }
   ],
   "source": [
    "%%writefile api_peliculas.py\n",
    "from flask import Flask\n",
    "from flask_restx import Api, Resource, fields\n",
    "import tensorflow_hub as hub\n",
    "from tensorflow.keras.models import load_model\n",
    "import numpy as np\n",
    "\n",
    "# Cargar el modelo de géneros\n",
    "try:\n",
    "    model = load_model('modelo_generos.keras')\n",
    "    print(\"✅ Modelo cargado correctamente\")\n",
    "except:\n",
    "    print(\"⚠️ Modelo no cargado.\")\n",
    "    model = None\n",
    "\n",
    "# Cargar el modelo de Universal Sentence Encoder\n",
    "try:\n",
    "    embed = hub.load(\"https://tfhub.dev/google/universal-sentence-encoder/4\")\n",
    "    print(\"✅ USE cargado correctamente\")\n",
    "except:\n",
    "    print(\"⚠️ Modelo USE no cargado.\")\n",
    "    embed = None\n",
    "\n",
    "# Inicializar la app\n",
    "app = Flask(__name__)\n",
    "api = Api(app, version='1.0', title='Predicción de Géneros de Películas',\n",
    "          description='API que predice la probabilidad de géneros basada en el plot (descripción)')\n",
    "\n",
    "ns = api.namespace('predict', description='Predicción de géneros')\n",
    "\n",
    "# Parámetros esperados\n",
    "parser = ns.parser()\n",
    "parser.add_argument('plot', type=str, required=True, help='Descripción de la película', location='args')\n",
    "\n",
    "# Salida esperada\n",
    "resource_fields = api.model('Prediction', {\n",
    "    'predicciones': fields.List(fields.Float),\n",
    "})\n",
    "\n",
    "@ns.route('/')\n",
    "class GenrePredictor(Resource):\n",
    "\n",
    "    @ns.doc(parser=parser)\n",
    "    @ns.marshal_with(resource_fields)\n",
    "    def get(self):\n",
    "        args = parser.parse_args()\n",
    "        plot = args['plot']\n",
    "\n",
    "        if model is None or embed is None:\n",
    "            return {'predicciones': [-1.0] * 24}, 200\n",
    "\n",
    "        # Generar embedding de la descripción\n",
    "        embedding = embed([plot]).numpy()\n",
    "        \n",
    "        # Hacer predicción\n",
    "        pred = model.predict(embedding)[0].tolist()\n",
    "        \n",
    "        return {'predicciones': pred}, 200\n",
    "\n",
    "if __name__ == '__main__':\n",
    "    app.run(debug=True, use_reloader=False, host='0.0.0.0', port=5000)"
   ]
  },
  {
   "cell_type": "code",
   "execution_count": null,
   "id": "1bed232c-89d8-41a1-9e1b-1b367bbe9698",
   "metadata": {},
   "outputs": [],
   "source": []
  }
 ],
 "metadata": {
  "kernelspec": {
   "display_name": "Python 3 (ipykernel)",
   "language": "python",
   "name": "python3"
  },
  "language_info": {
   "codemirror_mode": {
    "name": "ipython",
    "version": 3
   },
   "file_extension": ".py",
   "mimetype": "text/x-python",
   "name": "python",
   "nbconvert_exporter": "python",
   "pygments_lexer": "ipython3",
   "version": "3.11.11"
  }
 },
 "nbformat": 4,
 "nbformat_minor": 5
}
