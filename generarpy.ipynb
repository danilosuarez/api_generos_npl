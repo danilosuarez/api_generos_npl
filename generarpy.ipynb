{
 "cells": [
  {
   "cell_type": "code",
   "execution_count": 3,
   "id": "ae512b83-49f4-43e5-be0b-dd4b8e00ca8e",
   "metadata": {},
   "outputs": [
    {
     "name": "stdout",
     "output_type": "stream",
     "text": [
      "Writing api_peliculas.py\n"
     ]
    }
   ],
   "source": [
    "%%writefile api_peliculas.py\n",
    "from flask import Flask\n",
    "from flask_restx import Api, Resource, fields\n",
    "import joblib\n",
    "import numpy as np\n",
    "\n",
    "app = Flask(__name__)\n",
    "api = Api(app, version='1.0', title='API Predicción Géneros de Películas',\n",
    "          description='Predice probabilidades de géneros a partir de descripciones de películas.')\n",
    "\n",
    "ns = api.namespace('predict', description='Predicción de géneros')\n",
    "\n",
    "parser = ns.parser()\n",
    "parser.add_argument('plot', type=str, required=True, help='Sinopsis de la película', location='args')\n",
    "\n",
    "resource_fields = api.model('Resource', {\n",
    "    'probabilidades': fields.Raw\n",
    "})\n",
    "\n",
    "# Cargar modelo\n",
    "try:\n",
    "    clf = joblib.load(\"clf.pkl\")\n",
    "except:\n",
    "    clf = None\n",
    "    print(\"⚠️ Modelo no cargado.\")\n",
    "\n",
    "@ns.route('/')\n",
    "class GenreClassifier(Resource):\n",
    "    @ns.doc(parser=parser)\n",
    "    @ns.marshal_with(resource_fields)\n",
    "    def get(self):\n",
    "        args = parser.parse_args()\n",
    "        plot = args['plot']\n",
    "\n",
    "        # Aquí irá la generación de embeddings cuando esté listo\n",
    "        if clf:\n",
    "            dummy_input = np.zeros((1, 512))\n",
    "            result = clf.predict_proba(dummy_input)\n",
    "            return {'probabilidades': result.tolist()}\n",
    "        else:\n",
    "            return {'probabilidades': 'Modelo no disponible'}, 503\n",
    "\n",
    "if __name__ == '__main__':\n",
    "    app.run(host='0.0.0.0', port=5000, debug=True)"
   ]
  },
  {
   "cell_type": "code",
   "execution_count": null,
   "id": "1bed232c-89d8-41a1-9e1b-1b367bbe9698",
   "metadata": {},
   "outputs": [],
   "source": []
  }
 ],
 "metadata": {
  "kernelspec": {
   "display_name": "Python 3 (ipykernel)",
   "language": "python",
   "name": "python3"
  },
  "language_info": {
   "codemirror_mode": {
    "name": "ipython",
    "version": 3
   },
   "file_extension": ".py",
   "mimetype": "text/x-python",
   "name": "python",
   "nbconvert_exporter": "python",
   "pygments_lexer": "ipython3",
   "version": "3.11.11"
  }
 },
 "nbformat": 4,
 "nbformat_minor": 5
}
